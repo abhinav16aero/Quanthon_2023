{
 "cells": [
  {
   "cell_type": "code",
   "execution_count": 1,
   "id": "69c2e201",
   "metadata": {
    "_cell_guid": "b1076dfc-b9ad-4769-8c92-a6c4dae69d19",
    "_uuid": "8f2839f25d086af736a60e9eeb907d3b93b6e0e5",
    "execution": {
     "iopub.execute_input": "2023-08-26T16:07:48.283150Z",
     "iopub.status.busy": "2023-08-26T16:07:48.282841Z",
     "iopub.status.idle": "2023-08-26T16:07:48.294914Z",
     "shell.execute_reply": "2023-08-26T16:07:48.294014Z"
    },
    "papermill": {
     "duration": 0.021774,
     "end_time": "2023-08-26T16:07:48.297795",
     "exception": false,
     "start_time": "2023-08-26T16:07:48.276021",
     "status": "completed"
    },
    "tags": []
   },
   "outputs": [],
   "source": [
    "import pandas as pd\n",
    "import numpy as np\n",
    "import matplotlib. pyplot as plt\n",
    "import matplotlib"
   ]
  },
  {
   "cell_type": "code",
   "execution_count": 2,
   "id": "4016810d",
   "metadata": {
    "execution": {
     "iopub.execute_input": "2023-08-26T16:07:48.307647Z",
     "iopub.status.busy": "2023-08-26T16:07:48.307141Z",
     "iopub.status.idle": "2023-08-26T16:07:52.511276Z",
     "shell.execute_reply": "2023-08-26T16:07:52.510239Z"
    },
    "papermill": {
     "duration": 4.211626,
     "end_time": "2023-08-26T16:07:52.513783",
     "exception": false,
     "start_time": "2023-08-26T16:07:48.302157",
     "status": "completed"
    },
    "tags": []
   },
   "outputs": [],
   "source": [
    "nasdaq = pd.read_csv(\"/kaggle/input/nasdaq/NQ_continuous_adjusted_1min_2011_2018.txt\", sep=\",\")"
   ]
  },
  {
   "cell_type": "code",
   "execution_count": 3,
   "id": "247dd46a",
   "metadata": {
    "execution": {
     "iopub.execute_input": "2023-08-26T16:07:52.524564Z",
     "iopub.status.busy": "2023-08-26T16:07:52.524253Z",
     "iopub.status.idle": "2023-08-26T16:07:52.553991Z",
     "shell.execute_reply": "2023-08-26T16:07:52.553037Z"
    },
    "papermill": {
     "duration": 0.03778,
     "end_time": "2023-08-26T16:07:52.556204",
     "exception": false,
     "start_time": "2023-08-26T16:07:52.518424",
     "status": "completed"
    },
    "tags": []
   },
   "outputs": [
    {
     "data": {
      "text/html": [
       "<div>\n",
       "<style scoped>\n",
       "    .dataframe tbody tr th:only-of-type {\n",
       "        vertical-align: middle;\n",
       "    }\n",
       "\n",
       "    .dataframe tbody tr th {\n",
       "        vertical-align: top;\n",
       "    }\n",
       "\n",
       "    .dataframe thead th {\n",
       "        text-align: right;\n",
       "    }\n",
       "</style>\n",
       "<table border=\"1\" class=\"dataframe\">\n",
       "  <thead>\n",
       "    <tr style=\"text-align: right;\">\n",
       "      <th></th>\n",
       "      <th>DateTime</th>\n",
       "      <th>Open</th>\n",
       "      <th>High</th>\n",
       "      <th>Low</th>\n",
       "      <th>Close</th>\n",
       "      <th>Volume</th>\n",
       "    </tr>\n",
       "  </thead>\n",
       "  <tbody>\n",
       "    <tr>\n",
       "      <th>0</th>\n",
       "      <td>2011-01-02 18:00:00</td>\n",
       "      <td>2361.25</td>\n",
       "      <td>2364.25</td>\n",
       "      <td>2361.25</td>\n",
       "      <td>2364.00</td>\n",
       "      <td>169</td>\n",
       "    </tr>\n",
       "    <tr>\n",
       "      <th>1</th>\n",
       "      <td>2011-01-02 18:01:00</td>\n",
       "      <td>2363.25</td>\n",
       "      <td>2364.00</td>\n",
       "      <td>2363.25</td>\n",
       "      <td>2363.50</td>\n",
       "      <td>10</td>\n",
       "    </tr>\n",
       "    <tr>\n",
       "      <th>2</th>\n",
       "      <td>2011-01-02 18:02:00</td>\n",
       "      <td>2363.50</td>\n",
       "      <td>2364.50</td>\n",
       "      <td>2363.25</td>\n",
       "      <td>2364.50</td>\n",
       "      <td>71</td>\n",
       "    </tr>\n",
       "    <tr>\n",
       "      <th>3</th>\n",
       "      <td>2011-01-02 18:03:00</td>\n",
       "      <td>2364.75</td>\n",
       "      <td>2364.75</td>\n",
       "      <td>2364.00</td>\n",
       "      <td>2364.25</td>\n",
       "      <td>70</td>\n",
       "    </tr>\n",
       "    <tr>\n",
       "      <th>4</th>\n",
       "      <td>2011-01-02 18:04:00</td>\n",
       "      <td>2364.50</td>\n",
       "      <td>2365.00</td>\n",
       "      <td>2364.25</td>\n",
       "      <td>2364.25</td>\n",
       "      <td>30</td>\n",
       "    </tr>\n",
       "    <tr>\n",
       "      <th>...</th>\n",
       "      <td>...</td>\n",
       "      <td>...</td>\n",
       "      <td>...</td>\n",
       "      <td>...</td>\n",
       "      <td>...</td>\n",
       "      <td>...</td>\n",
       "    </tr>\n",
       "    <tr>\n",
       "      <th>2611964</th>\n",
       "      <td>2018-12-31 16:55:00</td>\n",
       "      <td>6489.75</td>\n",
       "      <td>6491.50</td>\n",
       "      <td>6489.75</td>\n",
       "      <td>6491.50</td>\n",
       "      <td>19</td>\n",
       "    </tr>\n",
       "    <tr>\n",
       "      <th>2611965</th>\n",
       "      <td>2018-12-31 16:56:00</td>\n",
       "      <td>6491.50</td>\n",
       "      <td>6492.25</td>\n",
       "      <td>6491.00</td>\n",
       "      <td>6491.50</td>\n",
       "      <td>61</td>\n",
       "    </tr>\n",
       "    <tr>\n",
       "      <th>2611966</th>\n",
       "      <td>2018-12-31 16:57:00</td>\n",
       "      <td>6491.50</td>\n",
       "      <td>6492.25</td>\n",
       "      <td>6490.75</td>\n",
       "      <td>6490.75</td>\n",
       "      <td>17</td>\n",
       "    </tr>\n",
       "    <tr>\n",
       "      <th>2611967</th>\n",
       "      <td>2018-12-31 16:58:00</td>\n",
       "      <td>6491.00</td>\n",
       "      <td>6491.50</td>\n",
       "      <td>6491.00</td>\n",
       "      <td>6491.25</td>\n",
       "      <td>29</td>\n",
       "    </tr>\n",
       "    <tr>\n",
       "      <th>2611968</th>\n",
       "      <td>2018-12-31 16:59:00</td>\n",
       "      <td>6491.00</td>\n",
       "      <td>6492.50</td>\n",
       "      <td>6490.75</td>\n",
       "      <td>6491.25</td>\n",
       "      <td>50</td>\n",
       "    </tr>\n",
       "  </tbody>\n",
       "</table>\n",
       "<p>2611969 rows × 6 columns</p>\n",
       "</div>"
      ],
      "text/plain": [
       "                    DateTime     Open     High      Low    Close  Volume\n",
       "0        2011-01-02 18:00:00  2361.25  2364.25  2361.25  2364.00     169\n",
       "1        2011-01-02 18:01:00  2363.25  2364.00  2363.25  2363.50      10\n",
       "2        2011-01-02 18:02:00  2363.50  2364.50  2363.25  2364.50      71\n",
       "3        2011-01-02 18:03:00  2364.75  2364.75  2364.00  2364.25      70\n",
       "4        2011-01-02 18:04:00  2364.50  2365.00  2364.25  2364.25      30\n",
       "...                      ...      ...      ...      ...      ...     ...\n",
       "2611964  2018-12-31 16:55:00  6489.75  6491.50  6489.75  6491.50      19\n",
       "2611965  2018-12-31 16:56:00  6491.50  6492.25  6491.00  6491.50      61\n",
       "2611966  2018-12-31 16:57:00  6491.50  6492.25  6490.75  6490.75      17\n",
       "2611967  2018-12-31 16:58:00  6491.00  6491.50  6491.00  6491.25      29\n",
       "2611968  2018-12-31 16:59:00  6491.00  6492.50  6490.75  6491.25      50\n",
       "\n",
       "[2611969 rows x 6 columns]"
      ]
     },
     "execution_count": 3,
     "metadata": {},
     "output_type": "execute_result"
    }
   ],
   "source": [
    "nasdaq"
   ]
  },
  {
   "cell_type": "code",
   "execution_count": 4,
   "id": "00af393d",
   "metadata": {
    "execution": {
     "iopub.execute_input": "2023-08-26T16:07:52.568449Z",
     "iopub.status.busy": "2023-08-26T16:07:52.566968Z",
     "iopub.status.idle": "2023-08-26T16:07:53.326173Z",
     "shell.execute_reply": "2023-08-26T16:07:53.325227Z"
    },
    "papermill": {
     "duration": 0.766975,
     "end_time": "2023-08-26T16:07:53.328390",
     "exception": false,
     "start_time": "2023-08-26T16:07:52.561415",
     "status": "completed"
    },
    "tags": []
   },
   "outputs": [
    {
     "data": {
      "text/plain": [
       "<Axes: >"
      ]
     },
     "execution_count": 4,
     "metadata": {},
     "output_type": "execute_result"
    },
    {
     "data": {
      "image/png": "[encoded data removed]",
      "text/plain": [
       "<Figure size 640x480 with 1 Axes>"
      ]
     },
     "metadata": {},
     "output_type": "display_data"
    }
   ],
   "source": [
    "nasdaq['Close'].plot()"
   ]
  },
  {
   "cell_type": "code",
   "execution_count": 5,
   "id": "538fd442",
   "metadata": {
    "execution": {
     "iopub.execute_input": "2023-08-26T16:07:53.341464Z",
     "iopub.status.busy": "2023-08-26T16:07:53.340836Z",
     "iopub.status.idle": "2023-08-26T16:07:53.349859Z",
     "shell.execute_reply": "2023-08-26T16:07:53.349025Z"
    },
    "papermill": {
     "duration": 0.01768,
     "end_time": "2023-08-26T16:07:53.351859",
     "exception": false,
     "start_time": "2023-08-26T16:07:53.334179",
     "status": "completed"
    },
    "tags": []
   },
   "outputs": [],
   "source": [
    "output_var = pd.DataFrame(nasdaq['Close'])\n",
    "#Selecting the Features\n",
    "features = ['Open', 'High', 'Low', 'Volume']"
   ]
  },
  {
   "cell_type": "code",
   "execution_count": 6,
   "id": "6146cd38",
   "metadata": {
    "execution": {
     "iopub.execute_input": "2023-08-26T16:07:53.363029Z",
     "iopub.status.busy": "2023-08-26T16:07:53.362773Z",
     "iopub.status.idle": "2023-08-26T16:07:55.310855Z",
     "shell.execute_reply": "2023-08-26T16:07:55.309853Z"
    },
    "papermill": {
     "duration": 1.956198,
     "end_time": "2023-08-26T16:07:55.313151",
     "exception": false,
     "start_time": "2023-08-26T16:07:53.356953",
     "status": "completed"
    },
    "tags": []
   },
   "outputs": [
    {
     "name": "stderr",
     "output_type": "stream",
     "text": [
      "/opt/conda/lib/python3.10/site-packages/scipy/__init__.py:146: UserWarning: A NumPy version >=1.16.5 and <1.23.0 is required for this version of SciPy (detected version 1.23.5\n",
      "  warnings.warn(f\"A NumPy version >={np_minversion} and <{np_maxversion}\"\n"
     ]
    },
    {
     "data": {
      "text/html": [
       "<div>\n",
       "<style scoped>\n",
       "    .dataframe tbody tr th:only-of-type {\n",
       "        vertical-align: middle;\n",
       "    }\n",
       "\n",
       "    .dataframe tbody tr th {\n",
       "        vertical-align: top;\n",
       "    }\n",
       "\n",
       "    .dataframe thead th {\n",
       "        text-align: right;\n",
       "    }\n",
       "</style>\n",
       "<table border=\"1\" class=\"dataframe\">\n",
       "  <thead>\n",
       "    <tr style=\"text-align: right;\">\n",
       "      <th></th>\n",
       "      <th>Open</th>\n",
       "      <th>High</th>\n",
       "      <th>Low</th>\n",
       "      <th>Volume</th>\n",
       "    </tr>\n",
       "  </thead>\n",
       "  <tbody>\n",
       "    <tr>\n",
       "      <th>0</th>\n",
       "      <td>0.041594</td>\n",
       "      <td>0.041979</td>\n",
       "      <td>0.041903</td>\n",
       "      <td>0.009501</td>\n",
       "    </tr>\n",
       "    <tr>\n",
       "      <th>1</th>\n",
       "      <td>0.041941</td>\n",
       "      <td>0.041936</td>\n",
       "      <td>0.042250</td>\n",
       "      <td>0.000509</td>\n",
       "    </tr>\n",
       "    <tr>\n",
       "      <th>2</th>\n",
       "      <td>0.041984</td>\n",
       "      <td>0.042022</td>\n",
       "      <td>0.042250</td>\n",
       "      <td>0.003959</td>\n",
       "    </tr>\n",
       "    <tr>\n",
       "      <th>3</th>\n",
       "      <td>0.042201</td>\n",
       "      <td>0.042066</td>\n",
       "      <td>0.042380</td>\n",
       "      <td>0.003902</td>\n",
       "    </tr>\n",
       "    <tr>\n",
       "      <th>4</th>\n",
       "      <td>0.042158</td>\n",
       "      <td>0.042109</td>\n",
       "      <td>0.042423</td>\n",
       "      <td>0.001640</td>\n",
       "    </tr>\n",
       "  </tbody>\n",
       "</table>\n",
       "</div>"
      ],
      "text/plain": [
       "       Open      High       Low    Volume\n",
       "0  0.041594  0.041979  0.041903  0.009501\n",
       "1  0.041941  0.041936  0.042250  0.000509\n",
       "2  0.041984  0.042022  0.042250  0.003959\n",
       "3  0.042201  0.042066  0.042380  0.003902\n",
       "4  0.042158  0.042109  0.042423  0.001640"
      ]
     },
     "execution_count": 6,
     "metadata": {},
     "output_type": "execute_result"
    }
   ],
   "source": [
    "from sklearn.preprocessing import MinMaxScaler\n",
    "scaler = MinMaxScaler()\n",
    "feature_transform = scaler.fit_transform(nasdaq[features])\n",
    "feature_transform= pd.DataFrame(columns=features, data=feature_transform, index=nasdaq.index)\n",
    "feature_transform.head()"
   ]
  },
  {
   "cell_type": "code",
   "execution_count": 7,
   "id": "5837cde4",
   "metadata": {
    "execution": {
     "iopub.execute_input": "2023-08-26T16:07:55.326317Z",
     "iopub.status.busy": "2023-08-26T16:07:55.326007Z",
     "iopub.status.idle": "2023-08-26T16:08:10.268761Z",
     "shell.execute_reply": "2023-08-26T16:08:10.267592Z"
    },
    "papermill": {
     "duration": 14.952225,
     "end_time": "2023-08-26T16:08:10.271679",
     "exception": false,
     "start_time": "2023-08-26T16:07:55.319454",
     "status": "completed"
    },
    "tags": []
   },
   "outputs": [
    {
     "name": "stderr",
     "output_type": "stream",
     "text": [
      "/opt/conda/lib/python3.10/site-packages/tensorflow_io/python/ops/__init__.py:98: UserWarning: unable to load libtensorflow_io_plugins.so: unable to open file: libtensorflow_io_plugins.so, from paths: ['/opt/conda/lib/python3.10/site-packages/tensorflow_io/python/ops/libtensorflow_io_plugins.so']\n",
      "caused by: ['/opt/conda/lib/python3.10/site-packages/tensorflow_io/python/ops/libtensorflow_io_plugins.so: undefined symbol: _ZN3tsl6StatusC1EN10tensorflow5error4CodeESt17basic_string_viewIcSt11char_traitsIcEENS_14SourceLocationE']\n",
      "  warnings.warn(f\"unable to load libtensorflow_io_plugins.so: {e}\")\n",
      "/opt/conda/lib/python3.10/site-packages/tensorflow_io/python/ops/__init__.py:104: UserWarning: file system plugins are not loaded: unable to open file: libtensorflow_io.so, from paths: ['/opt/conda/lib/python3.10/site-packages/tensorflow_io/python/ops/libtensorflow_io.so']\n",
      "caused by: ['/opt/conda/lib/python3.10/site-packages/tensorflow_io/python/ops/libtensorflow_io.so: undefined symbol: _ZTVN10tensorflow13GcsFileSystemE']\n",
      "  warnings.warn(f\"file system plugins are not loaded: {e}\")\n"
     ]
    }
   ],
   "source": [
    "from sklearn.preprocessing import MinMaxScaler\n",
    "from keras.layers import LSTM, Dense, Dropout\n",
    "from sklearn.model_selection import TimeSeriesSplit\n",
    "from sklearn.metrics import mean_squared_error, r2_score\n",
    "import matplotlib.dates as mdates\n",
    "from sklearn.preprocessing import MinMaxScaler\n",
    "from sklearn import linear_model\n",
    "from keras.models import Sequential\n",
    "from keras.layers import Dense\n",
    "import keras.backend as K\n",
    "from keras.callbacks import EarlyStopping\n",
    "from keras.optimizers import Adam\n",
    "from keras.models import load_model\n",
    "from keras.layers import LSTM\n",
    "from keras.utils.vis_utils import plot_model"
   ]
  },
  {
   "cell_type": "code",
   "execution_count": 8,
   "id": "d248d373",
   "metadata": {
    "execution": {
     "iopub.execute_input": "2023-08-26T16:08:10.284927Z",
     "iopub.status.busy": "2023-08-26T16:08:10.284320Z",
     "iopub.status.idle": "2023-08-26T16:08:10.298461Z",
     "shell.execute_reply": "2023-08-26T16:08:10.297547Z"
    },
    "papermill": {
     "duration": 0.02313,
     "end_time": "2023-08-26T16:08:10.300807",
     "exception": false,
     "start_time": "2023-08-26T16:08:10.277677",
     "status": "completed"
    },
    "tags": []
   },
   "outputs": [],
   "source": [
    "#Splitting to Training set and Test set\n",
    "timesplit= TimeSeriesSplit(n_splits=10)\n",
    "for train_index, test_index in timesplit.split(feature_transform):\n",
    "        X_train, X_test = feature_transform[:len(train_index)], feature_transform[len(train_index): (len(train_index)+len(test_index))]\n",
    "        y_train, y_test = output_var[:len(train_index)].values.ravel(), output_var[len(train_index): (len(train_index)+len(test_index))].values.ravel()"
   ]
  },
  {
   "cell_type": "code",
   "execution_count": 9,
   "id": "c8d7b26d",
   "metadata": {
    "execution": {
     "iopub.execute_input": "2023-08-26T16:08:10.313509Z",
     "iopub.status.busy": "2023-08-26T16:08:10.313225Z",
     "iopub.status.idle": "2023-08-26T16:08:10.347932Z",
     "shell.execute_reply": "2023-08-26T16:08:10.346995Z"
    },
    "papermill": {
     "duration": 0.04373,
     "end_time": "2023-08-26T16:08:10.350093",
     "exception": false,
     "start_time": "2023-08-26T16:08:10.306363",
     "status": "completed"
    },
    "tags": []
   },
   "outputs": [],
   "source": [
    "trainX =np.array(X_train)\n",
    "testX =np.array(X_test)\n",
    "X_train = trainX.reshape(X_train.shape[0], 1, X_train.shape[1])\n",
    "X_test = testX.reshape(X_test.shape[0], 1, X_test.shape[1])"
   ]
  },
  {
   "cell_type": "code",
   "execution_count": 10,
   "id": "1a2ef78e",
   "metadata": {
    "execution": {
     "iopub.execute_input": "2023-08-26T16:08:10.362700Z",
     "iopub.status.busy": "2023-08-26T16:08:10.362407Z",
     "iopub.status.idle": "2023-08-26T16:08:17.186098Z",
     "shell.execute_reply": "2023-08-26T16:08:17.185118Z"
    },
    "papermill": {
     "duration": 6.832604,
     "end_time": "2023-08-26T16:08:17.188449",
     "exception": false,
     "start_time": "2023-08-26T16:08:10.355845",
     "status": "completed"
    },
    "tags": []
   },
   "outputs": [
    {
     "data": {
      "image/png": "[encoded data removed]",
      "text/plain": [
       "<IPython.core.display.Image object>"
      ]
     },
     "execution_count": 10,
     "metadata": {},
     "output_type": "execute_result"
    }
   ],
   "source": [
    "#Building the LSTM Model\n",
    "lstm = Sequential()\n",
    "lstm.add(LSTM(32, input_shape=(1, trainX.shape[1]), activation='relu', return_sequences=False))\n",
    "lstm.add(Dense(1))\n",
    "lstm.compile(loss='mean_squared_error', optimizer='adam')\n",
    "plot_model(lstm, show_shapes=True, show_layer_names=True)"
   ]
  },
  {
   "cell_type": "code",
   "execution_count": 11,
   "id": "0b45ae55",
   "metadata": {
    "execution": {
     "iopub.execute_input": "2023-08-26T16:08:17.202846Z",
     "iopub.status.busy": "2023-08-26T16:08:17.201833Z",
     "iopub.status.idle": "2023-08-26T16:27:40.823813Z",
     "shell.execute_reply": "2023-08-26T16:27:40.822741Z"
    },
    "papermill": {
     "duration": 1163.631546,
     "end_time": "2023-08-26T16:27:40.826374",
     "exception": false,
     "start_time": "2023-08-26T16:08:17.194828",
     "status": "completed"
    },
    "tags": []
   },
   "outputs": [
    {
     "name": "stdout",
     "output_type": "stream",
     "text": [
      "Epoch 1/10\n",
      "18551/18551 [==============================] - 120s 6ms/step - loss: 2198479.7500\n",
      "Epoch 2/10\n",
      "18551/18551 [==============================] - 109s 6ms/step - loss: 552.5355\n",
      "Epoch 3/10\n",
      "18551/18551 [==============================] - 110s 6ms/step - loss: 75.7907\n",
      "Epoch 4/10\n",
      "18551/18551 [==============================] - 110s 6ms/step - loss: 25.4385\n",
      "Epoch 5/10\n",
      "18551/18551 [==============================] - 109s 6ms/step - loss: 8.6009\n",
      "Epoch 6/10\n",
      "18551/18551 [==============================] - 111s 6ms/step - loss: 3.1409\n",
      "Epoch 7/10\n",
      "18551/18551 [==============================] - 109s 6ms/step - loss: 1.4417\n",
      "Epoch 8/10\n",
      "18551/18551 [==============================] - 112s 6ms/step - loss: 0.8707\n",
      "Epoch 9/10\n",
      "18551/18551 [==============================] - 110s 6ms/step - loss: 0.6662\n",
      "Epoch 10/10\n",
      "18551/18551 [==============================] - 110s 6ms/step - loss: 0.6026\n"
     ]
    }
   ],
   "source": [
    "history=lstm.fit(X_train, y_train, epochs=10, batch_size=128, verbose=1, shuffle=False)"
   ]
  },
  {
   "cell_type": "code",
   "execution_count": 12,
   "id": "0c0ff785",
   "metadata": {
    "execution": {
     "iopub.execute_input": "2023-08-26T16:27:44.651313Z",
     "iopub.status.busy": "2023-08-26T16:27:44.650900Z",
     "iopub.status.idle": "2023-08-26T16:28:05.347809Z",
     "shell.execute_reply": "2023-08-26T16:28:05.346424Z"
    },
    "papermill": {
     "duration": 22.351597,
     "end_time": "2023-08-26T16:28:05.350213",
     "exception": false,
     "start_time": "2023-08-26T16:27:42.998616",
     "status": "completed"
    },
    "tags": []
   },
   "outputs": [
    {
     "name": "stdout",
     "output_type": "stream",
     "text": [
      "7421/7421 [==============================] - 14s 2ms/step\n"
     ]
    }
   ],
   "source": [
    "y_pred= lstm.predict(X_test)"
   ]
  },
  {
   "cell_type": "code",
   "execution_count": 13,
   "id": "1c06610b",
   "metadata": {
    "execution": {
     "iopub.execute_input": "2023-08-26T16:28:08.778681Z",
     "iopub.status.busy": "2023-08-26T16:28:08.778316Z",
     "iopub.status.idle": "2023-08-26T16:28:09.380331Z",
     "shell.execute_reply": "2023-08-26T16:28:09.379365Z"
    },
    "papermill": {
     "duration": 2.341856,
     "end_time": "2023-08-26T16:28:09.382571",
     "exception": false,
     "start_time": "2023-08-26T16:28:07.040715",
     "status": "completed"
    },
    "tags": []
   },
   "outputs": [
    {
     "data": {
      "image/png": "[encoded data removed]",
      "text/plain": [
       "<Figure size 640x480 with 1 Axes>"
      ]
     },
     "metadata": {},
     "output_type": "display_data"
    }
   ],
   "source": [
    "#Predicted vs True Adj Close Value – LSTM\n",
    "plt.plot(y_test, label='True Value')\n",
    "plt.plot(y_pred, label='LSTM Value')\n",
    "plt.title('Prediction by LSTM')\n",
    "plt.xlabel('Time Scale')\n",
    "plt.ylabel('Scaled USD')\n",
    "plt.legend()\n",
    "plt.show()"
   ]
  },
  {
   "cell_type": "code",
   "execution_count": null,
   "id": "3379b080",
   "metadata": {
    "papermill": {
     "duration": 1.725315,
     "end_time": "2023-08-26T16:28:12.810553",
     "exception": false,
     "start_time": "2023-08-26T16:28:11.085238",
     "status": "completed"
    },
    "tags": []
   },
   "outputs": [],
   "source": []
  }
 ],
 "metadata": {
  "kernelspec": {
   "display_name": "Python 3",
   "language": "python",
   "name": "python3"
  },
  "language_info": {
   "codemirror_mode": {
    "name": "ipython",
    "version": 3
   },
   "file_extension": ".py",
   "mimetype": "text/x-python",
   "name": "python",
   "nbconvert_exporter": "python",
   "pygments_lexer": "ipython3",
   "version": "3.10.12"
  },
  "papermill": {
   "default_parameters": {},
   "duration": 1243.869058,
   "end_time": "2023-08-26T16:28:18.396564",
   "environment_variables": {},
   "exception": null,
   "input_path": "__notebook__.ipynb",
   "output_path": "__notebook__.ipynb",
   "parameters": {},
   "start_time": "2023-08-26T16:07:34.527506",
   "version": "2.4.0"
  }
 },
 "nbformat": 4,
 "nbformat_minor": 5
}
